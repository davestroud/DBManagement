{
 "cells": [
  {
   "cell_type": "code",
   "execution_count": 9,
   "metadata": {
    "collapsed": true
   },
   "outputs": [],
   "source": [
    "import xml.etree.ElementTree as ET\n",
    "\n",
    "## Read the xml file in memory \n",
    "tree = ET.parse('inventory.xml')\n",
    "root = tree.getroot()\n"
   ]
  },
  {
   "cell_type": "code",
   "execution_count": 11,
   "metadata": {},
   "outputs": [
    {
     "data": {
      "text/plain": [
       "'novel'"
      ]
     },
     "execution_count": 11,
     "metadata": {},
     "output_type": "execute_result"
    }
   ],
   "source": [
    "#root.tag\n",
    "dictTemp = root.attrib\n",
    "dictTemp[\"specialty\"]"
   ]
  },
  {
   "cell_type": "code",
   "execution_count": 20,
   "metadata": {},
   "outputs": [
    {
     "data": {
      "text/plain": [
       "<Element 'book' at 0x10e326818>"
      ]
     },
     "execution_count": 20,
     "metadata": {},
     "output_type": "execute_result"
    }
   ],
   "source": [
    "list(root)[0]"
   ]
  },
  {
   "cell_type": "code",
   "execution_count": 23,
   "metadata": {},
   "outputs": [
    {
     "data": {
      "text/plain": [
       "'book'"
      ]
     },
     "execution_count": 23,
     "metadata": {},
     "output_type": "execute_result"
    }
   ],
   "source": [
    "list(root)[0].tag"
   ]
  },
  {
   "cell_type": "code",
   "execution_count": 19,
   "metadata": {},
   "outputs": [
    {
     "data": {
      "text/plain": [
       "{'style': 'autobiography'}"
      ]
     },
     "execution_count": 19,
     "metadata": {},
     "output_type": "execute_result"
    }
   ],
   "source": [
    "list(root)[0].attrib"
   ]
  },
  {
   "cell_type": "code",
   "execution_count": 4,
   "metadata": {},
   "outputs": [
    {
     "name": "stdout",
     "output_type": "stream",
     "text": [
      "Element Name : book ;  Attributes : {'style': 'autobiography'}\n",
      "Element Name : book ;  Attributes : {'style': 'autobiography'}\n",
      "Element Name : book ;  Attributes : {'style': 'textbook'}\n",
      "Element Name : magazine ;  Attributes : {'style': 'glossy', 'frequency': 'monthly'}\n",
      "Element Name : book ;  Attributes : {'style': 'novel', 'id': 'myfave'}\n"
     ]
    }
   ],
   "source": [
    "## Child Elements can be iterated via list(root)\n",
    "## The Element tag name is accessed using the \"tag\" attribute\n",
    "## The Element attributes are accessed using the \"attrib\" attribute\n",
    "for child in list(root):\n",
    "    print(\"Element Name : %s ;  Attributes : %s\"  %(child.tag,child.attrib))\n"
   ]
  },
  {
   "cell_type": "code",
   "execution_count": 5,
   "metadata": {},
   "outputs": [
    {
     "name": "stdout",
     "output_type": "stream",
     "text": [
      "The distinct bookstyles across all books :\n",
      " {'novel', 'autobiography', 'textbook', 'glossy'} \n"
     ]
    }
   ],
   "source": [
    "##Question :  Print the distinct styles across all books and magazines\n",
    "\n",
    "#List the author First/Last Name of the autobiographies\n",
    "bookStyles = set()\n",
    "\n",
    "## Use list(Element) to access the child nodes of Element\n",
    "for child in list(root):\n",
    "    bookStyles.add(child.attrib['style'])\n",
    "\n",
    "print(\"The distinct bookstyles across all books :\\n %s \"%bookStyles)"
   ]
  },
  {
   "cell_type": "code",
   "execution_count": 6,
   "metadata": {},
   "outputs": [
    {
     "name": "stdout",
     "output_type": "stream",
     "text": [
      "The authors of  autobiographies:\n",
      "Joe,Bob\n",
      "M,Gandhi\n"
     ]
    }
   ],
   "source": [
    "#Question : List the author First/Last Name of the authors of the autobiographies\n",
    "\n",
    "## Iterate thru all the books \n",
    "print (\"The authors of  autobiographies:\")\n",
    "for child in list(root):\n",
    "    \n",
    "    ## select the elements whose style = \"autobiography\"\n",
    "    if \"autobiography\" == child.attrib['style'] :\n",
    "        bioAuthor = child.find(\"author\")\n",
    "        print (\"%s,%s\"%(bioAuthor.find(\"first-name\").text ,bioAuthor.find(\"last-name\").text))"
   ]
  },
  {
   "cell_type": "code",
   "execution_count": 7,
   "metadata": {
    "collapsed": true
   },
   "outputs": [],
   "source": [
    "##Question : List the price of the only magazine in the xml document"
   ]
  },
  {
   "cell_type": "code",
   "execution_count": null,
   "metadata": {},
   "outputs": [],
   "source": []
  },
  {
   "cell_type": "code",
   "execution_count": 43,
   "metadata": {},
   "outputs": [
    {
     "name": "stdout",
     "output_type": "stream",
     "text": [
      "List the price of the only :\n",
      "2.50\n"
     ]
    }
   ],
   "source": [
    "print (\"List the price of the only :\")\n",
    "for child in list(root):\n",
    "    \n",
    "    ## select the elements whose style = \"autobiography\"\n",
    "    if \"glossy\" == child.attrib['style'] :\n",
    "        mag_price = child.find(\"price\")\n",
    "        print (\"%s\"%(mag_price.text))\n",
    "        \n",
    "        "
   ]
  },
  {
   "cell_type": "code",
   "execution_count": null,
   "metadata": {},
   "outputs": [],
   "source": []
  },
  {
   "cell_type": "code",
   "execution_count": 11,
   "metadata": {},
   "outputs": [],
   "source": [
    "##Question :  List the prices of all the books in the order they appear in the document\n",
    "##  Hint : \n",
    "## Iterate thru all nodes starting from the root node , match element.tag == 'price' to return the prices . \n",
    "## Alternately root.findall(\".//price\") returns the elements with tag name = price\n",
    "\n"
   ]
  },
  {
   "cell_type": "code",
   "execution_count": 44,
   "metadata": {},
   "outputs": [
    {
     "name": "stdout",
     "output_type": "stream",
     "text": [
      "The price of the book is 12\n",
      "The price of the book is 14\n",
      "The price of the book is 55\n",
      "The price of the book is 6.50\n"
     ]
    }
   ],
   "source": [
    "for child in list(root):\n",
    "    if child.tag == \"book\":\n",
    "        price = child.find(\"price\")\n",
    "        print (\"The price of the book is\", price.text)"
   ]
  },
  {
   "cell_type": "code",
   "execution_count": null,
   "metadata": {
    "collapsed": true
   },
   "outputs": [],
   "source": []
  },
  {
   "cell_type": "code",
   "execution_count": null,
   "metadata": {
    "collapsed": true
   },
   "outputs": [],
   "source": []
  }
 ],
 "metadata": {
  "kernelspec": {
   "display_name": "Python 3",
   "language": "python",
   "name": "python3"
  },
  "language_info": {
   "codemirror_mode": {
    "name": "ipython",
    "version": 3
   },
   "file_extension": ".py",
   "mimetype": "text/x-python",
   "name": "python",
   "nbconvert_exporter": "python",
   "pygments_lexer": "ipython3",
   "version": "3.6.5"
  }
 },
 "nbformat": 4,
 "nbformat_minor": 2
}
